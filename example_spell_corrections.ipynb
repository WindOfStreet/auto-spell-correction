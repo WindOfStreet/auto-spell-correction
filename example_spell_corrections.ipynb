{
 "cells": [
  {
   "cell_type": "markdown",
   "metadata": {},
   "source": [
    "### 装饰器测试"
   ]
  },
  {
   "cell_type": "code",
   "execution_count": 1,
   "metadata": {},
   "outputs": [],
   "source": [
    "original_price = [2, 5, 8, 11, 15, 20, 21, 23, 25, 26]"
   ]
  },
  {
   "cell_type": "code",
   "execution_count": 2,
   "metadata": {},
   "outputs": [],
   "source": [
    "from collections import defaultdict"
   ]
  },
  {
   "cell_type": "code",
   "execution_count": 8,
   "metadata": {},
   "outputs": [
    {
     "data": {
      "text/plain": [
       "defaultdict(int,\n",
       "            {1: 2,\n",
       "             2: 5,\n",
       "             3: 8,\n",
       "             4: 11,\n",
       "             5: 15,\n",
       "             6: 20,\n",
       "             7: 21,\n",
       "             8: 23,\n",
       "             9: 25,\n",
       "             10: 26})"
      ]
     },
     "execution_count": 8,
     "metadata": {},
     "output_type": "execute_result"
    }
   ],
   "source": [
    "price_lookup = defaultdict(int)\n",
    "for i in range(1,11,1):\n",
    "    price_lookup[i] = original_price[i-1]\n",
    "price_lookup"
   ]
  },
  {
   "cell_type": "code",
   "execution_count": 78,
   "metadata": {},
   "outputs": [],
   "source": [
    "import numpy as np\n",
    "import time\n",
    "from functools import wraps"
   ]
  },
  {
   "cell_type": "code",
   "execution_count": 86,
   "metadata": {},
   "outputs": [],
   "source": [
    "def print_time(func):\n",
    "    @wraps(func)\n",
    "    def wrapper(*args, **kwargs):\n",
    "        '''count running time'''\n",
    "        t1 = time.process_time()\n",
    "        func(*args, **kwargs)\n",
    "        t2 = time.process_time()\n",
    "        print('函数运行{}秒。'.format(t2-t1))\n",
    "    return wrapper    "
   ]
  },
  {
   "cell_type": "code",
   "execution_count": 91,
   "metadata": {},
   "outputs": [],
   "source": [
    "@print_time\n",
    "def get_best(lenth):\n",
    "    '''获取最大切分利润。'''\n",
    "    group = [(i, lenth-i) for i in range(0,lenth//2+1,1)]\n",
    "    print(group)\n",
    "    num = len(group)\n",
    "    prices = np.arange(0,num,1)\n",
    "    for i in range(num):\n",
    "        prices[i] = price_lookup[group[i][0]] + price_lookup[group[i][1]]\n",
    "    max_idx = np.argmax(prices)\n",
    "    print('共有{}种切分方案，最佳方案为{}，最大利润为{}。'.format(num, group[max_idx],prices[max_idx]))      \n",
    "    return prices[max_idx]"
   ]
  },
  {
   "cell_type": "code",
   "execution_count": 92,
   "metadata": {},
   "outputs": [
    {
     "name": "stdout",
     "output_type": "stream",
     "text": [
      "[(0, 10), (1, 9), (2, 8), (3, 7), (4, 6), (5, 5)]\n",
      "共有6种切分方案，最佳方案为(4, 6)，最大利润为31。\n",
      "函数运行0.0秒。\n"
     ]
    }
   ],
   "source": [
    "get_best(10)"
   ]
  },
  {
   "cell_type": "code",
   "execution_count": 85,
   "metadata": {},
   "outputs": [
    {
     "data": {
      "text/plain": [
       "('wrapper', 'count running time')"
      ]
     },
     "execution_count": 85,
     "metadata": {},
     "output_type": "execute_result"
    }
   ],
   "source": [
    "# 装饰器中不加@wraps(func)时，打印出的函数信息：\n",
    "get_best.__name__, get_best.__doc__"
   ]
  },
  {
   "cell_type": "code",
   "execution_count": 88,
   "metadata": {},
   "outputs": [
    {
     "data": {
      "text/plain": [
       "('get_best', '获取最大切分利润。')"
      ]
     },
     "execution_count": 88,
     "metadata": {},
     "output_type": "execute_result"
    }
   ],
   "source": [
    "# 装饰器中加@wraps(func)时，打印出的函数信息：\n",
    "get_best.__name__, get_best.__doc__"
   ]
  },
  {
   "cell_type": "markdown",
   "metadata": {},
   "source": [
    "### 编辑距离"
   ]
  },
  {
   "cell_type": "code",
   "execution_count": 95,
   "metadata": {},
   "outputs": [],
   "source": [
    "from collections.abc import Iterable"
   ]
  },
  {
   "cell_type": "code",
   "execution_count": 96,
   "metadata": {},
   "outputs": [
    {
     "data": {
      "text/plain": [
       "True"
      ]
     },
     "execution_count": 96,
     "metadata": {},
     "output_type": "execute_result"
    }
   ],
   "source": [
    "isinstance('asdf', Iterable)"
   ]
  },
  {
   "cell_type": "code",
   "execution_count": 102,
   "metadata": {},
   "outputs": [
    {
     "data": {
      "text/plain": [
       "{1: 2, 3: 4}"
      ]
     },
     "execution_count": 102,
     "metadata": {},
     "output_type": "execute_result"
    }
   ],
   "source": [
    "c = {1:2, 3:4}\n",
    "c"
   ]
  },
  {
   "cell_type": "code",
   "execution_count": 103,
   "metadata": {},
   "outputs": [],
   "source": [
    "c[5] = 7"
   ]
  },
  {
   "cell_type": "code",
   "execution_count": 104,
   "metadata": {},
   "outputs": [
    {
     "data": {
      "text/plain": [
       "{1: 2, 3: 4, 5: 7}"
      ]
     },
     "execution_count": 104,
     "metadata": {},
     "output_type": "execute_result"
    }
   ],
   "source": [
    "c"
   ]
  },
  {
   "cell_type": "code",
   "execution_count": 105,
   "metadata": {},
   "outputs": [],
   "source": [
    "c[-1] = -2"
   ]
  },
  {
   "cell_type": "code",
   "execution_count": 106,
   "metadata": {},
   "outputs": [
    {
     "data": {
      "text/plain": [
       "{1: 2, 3: 4, 5: 7, -1: -2}"
      ]
     },
     "execution_count": 106,
     "metadata": {},
     "output_type": "execute_result"
    }
   ],
   "source": [
    "c"
   ]
  },
  {
   "cell_type": "code",
   "execution_count": 108,
   "metadata": {},
   "outputs": [
    {
     "data": {
      "text/plain": [
       "'dsssd'"
      ]
     },
     "execution_count": 108,
     "metadata": {},
     "output_type": "execute_result"
    }
   ],
   "source": [
    "'s'.join('dsd')"
   ]
  },
  {
   "cell_type": "code",
   "execution_count": 109,
   "metadata": {},
   "outputs": [
    {
     "data": {
      "text/plain": [
       "'sjj'"
      ]
     },
     "execution_count": 109,
     "metadata": {},
     "output_type": "execute_result"
    }
   ],
   "source": [
    "'s'+'jj'"
   ]
  },
  {
   "cell_type": "code",
   "execution_count": 111,
   "metadata": {},
   "outputs": [
    {
     "data": {
      "text/plain": [
       "'shj'"
      ]
     },
     "execution_count": 111,
     "metadata": {},
     "output_type": "execute_result"
    }
   ],
   "source": [
    "'sjj'.replace('j','h',1)"
   ]
  },
  {
   "cell_type": "code",
   "execution_count": 112,
   "metadata": {},
   "outputs": [],
   "source": [
    "ss = ('sdd','sadf')"
   ]
  },
  {
   "cell_type": "code",
   "execution_count": 114,
   "metadata": {},
   "outputs": [
    {
     "data": {
      "text/plain": [
       "'sd'"
      ]
     },
     "execution_count": 114,
     "metadata": {},
     "output_type": "execute_result"
    }
   ],
   "source": [
    "ss[0][:-1]"
   ]
  },
  {
   "cell_type": "markdown",
   "metadata": {},
   "source": [
    "### 拼音"
   ]
  },
  {
   "cell_type": "code",
   "execution_count": 123,
   "metadata": {},
   "outputs": [],
   "source": [
    "chinese_dataset = 'input/article_9k.txt'"
   ]
  },
  {
   "cell_type": "code",
   "execution_count": 126,
   "metadata": {},
   "outputs": [],
   "source": [
    "CHINESE_CHARATERS = open(chinese_dataset, encoding='utf-8').read()"
   ]
  },
  {
   "cell_type": "code",
   "execution_count": 127,
   "metadata": {},
   "outputs": [
    {
     "data": {
      "text/plain": [
       "'此外自本周6月12日起除小米手机6等15款机型外其余机型已暂停更新发布含开发版体'"
      ]
     },
     "execution_count": 127,
     "metadata": {},
     "output_type": "execute_result"
    }
   ],
   "source": [
    "CHINESE_CHARATERS[:40]"
   ]
  },
  {
   "cell_type": "code",
   "execution_count": 134,
   "metadata": {},
   "outputs": [],
   "source": [
    "import pinyin\n",
    "import re"
   ]
  },
  {
   "cell_type": "code",
   "execution_count": 131,
   "metadata": {},
   "outputs": [
    {
     "data": {
      "text/plain": [
       "'EOS'"
      ]
     },
     "execution_count": 131,
     "metadata": {},
     "output_type": "execute_result"
    }
   ],
   "source": [
    "pinyin.get('EOS')"
   ]
  },
  {
   "cell_type": "code",
   "execution_count": 136,
   "metadata": {},
   "outputs": [
    {
     "data": {
      "text/plain": [
       "['此外自本周6月12日起除小米手机6等15款机型外其余机型已暂停更新发布含开发版体验版内测稳定版暂不受影响以确保工程师可以集中全部精力进行系统优化工作有人猜测这也是将精力主要用到MIUI9的研发之中MIUI8去年5月发布距今已有一年有余也是时候更新换代了当然关于MIUI9的确切信息我们还是等待官方消息\\n',\n",
       " '骁龙835作为唯一通过Windows10桌面平台认证的ARM处理器高通强调不会因为只考虑性能而去屏蔽掉小核心相反他们正联手微软找到一种适合桌面平台的兼顾性能和功耗的完美方案报道称微软已经拿到了一些新的源码以便Windows10更好地理解biglittle架构资料显示骁龙835作为一款集成了CPUGPU基带蓝牙WiFi的SoC比传统的Wintel方案可以节省至少30的PCB空间按计划今年Q4华硕惠普联想将首发骁龙835Win10电脑预计均是二合一形态的产品当然高通骁龙只是个开始未来也许还能见到三星Exynos联发科华为麒麟小米澎湃等进入Windows10桌面平台\\n',\n",
       " '此前的一加3T搭载的是3400mAh电池DashCharge快充规格为5V4A至于电池缩水可能与刘作虎所说一加手机5要做市面最轻薄大屏旗舰的设定有关按照目前掌握的资料一加手机5拥有55寸1080P三星AMOLED显示屏6G8GBRAM64GB128GBROM双1600万摄像头备货量惊喜根据京东泄露的信息一加5起售价是xx99元应该是在279928992999中的某个\\n']"
      ]
     },
     "execution_count": 136,
     "metadata": {},
     "output_type": "execute_result"
    }
   ],
   "source": [
    "f = open(chinese_dataset, encoding='utf-8').readlines()\n",
    "f[:3]"
   ]
  },
  {
   "cell_type": "code",
   "execution_count": 163,
   "metadata": {
    "collapsed": true,
    "jupyter": {
     "outputs_hidden": true
    }
   },
   "outputs": [
    {
     "name": "stdout",
     "output_type": "stream",
     "text": [
      "['ci', 'wai', 'zi', 'ben', 'zhou', 'yue', 'ri', 'qi', 'chu', 'xiao', 'mi', 'shou', 'ji', 'deng', 'kuan', 'ji', 'xing', 'wai', 'qi', 'yu', 'ji', 'xing', 'yi', 'zan', 'ting', 'geng', 'xin', 'fa', 'bu', 'han', 'kai', 'fa', 'ban', 'ti', 'yan', 'ban', 'nei', 'ce', 'wen', 'ding', 'ban', 'zan', 'bu', 'shou', 'ying', 'xiang', 'yi', 'que', 'bao', 'gong', 'cheng', 'shi', 'ke', 'yi', 'ji', 'zhong', 'quan', 'bu', 'jing', 'li', 'jin', 'xing', 'xi', 'tong', 'you', 'hua', 'gong', 'zuo', 'you', 'ren', 'cai', 'ce', 'zhe', 'ye', 'shi', 'jiang', 'jing', 'li', 'zhu', 'yao', 'yong', 'dao', 'de', 'yan', 'fa', 'zhi', 'zhong', 'qu', 'nian', 'yue', 'fa', 'bu', 'ju', 'jin', 'yi', 'you', 'yi', 'nian', 'you', 'yu', 'ye', 'shi', 'shi', 'hou', 'geng', 'xin', 'huan', 'dai', 'le', 'dang', 'ran', 'guan', 'yu', 'de', 'que', 'qie', 'xin', 'xi', 'wo', 'men', 'huan', 'shi', 'deng', 'dai', 'guan', 'fang', 'xiao', 'xi', 'xiao', 'long', 'zuo', 'wei', 'wei', 'yi', 'tong', 'guo', 'zhuo', 'mian', 'ping', 'tai', 'ren', 'zheng', 'de', 'chu', 'li', 'qi', 'gao', 'tong', 'qiang', 'diao', 'bu', 'hui', 'yin', 'wei', 'zhi', 'kao', 'lv', 'xing', 'neng', 'er', 'qu', 'ping', 'bi', 'diao', 'xiao', 'he', 'xin', 'xiang', 'fan', 'ta', 'men', 'zheng', 'lian', 'shou', 'wei', 'ruan', 'zhao', 'dao', 'yi', 'zhong', 'shi', 'he', 'zhuo', 'mian', 'ping', 'tai', 'de', 'jian', 'gu', 'xing', 'neng', 'he', 'gong', 'hao', 'de', 'wan', 'mei', 'fang', 'an', 'bao', 'dao', 'cheng', 'wei', 'ruan', 'yi', 'jing', 'na', 'dao', 'le', 'yi', 'xie', 'xin', 'de', 'yuan', 'ma', 'yi', 'bian', 'geng', 'hao', 'di', 'li', 'jie', 'jia', 'gou', 'zi', 'liao', 'xian', 'shi', 'xiao', 'long', 'zuo', 'wei', 'yi', 'kuan', 'ji', 'cheng', 'le', 'ji', 'dai', 'lan', 'ya', 'de', 'bi', 'chuan', 'tong', 'de', 'fang', 'an', 'ke', 'yi', 'jie', 'sheng', 'zhi', 'shao', 'de', 'kong', 'jian', 'an', 'ji', 'hua', 'jin', 'nian', 'hua', 'shuo', 'hui', 'pu', 'lian', 'xiang', 'jiang', 'shou', 'fa', 'xiao', 'long', 'dian', 'nao', 'yu', 'ji', 'jun', 'shi', 'er', 'he', 'yi', 'xing', 'tai', 'de', 'chan', 'pin', 'dang', 'ran', 'gao', 'tong', 'xiao', 'long', 'zhi', 'shi', 'ge', 'kai', 'shi', 'wei', 'lai', 'ye', 'xu', 'huan', 'neng', 'jian', 'dao', 'san', 'xing', 'lian', 'fa', 'ke', 'hua', 'wei', 'qi', 'lin', 'xiao', 'mi', 'peng', 'pai', 'deng', 'jin', 'ru', 'zhuo', 'mian', 'ping', 'tai']\n"
     ]
    }
   ],
   "source": [
    "tokens = [] # 2d的list，存放每个段落的拼音\n",
    "for line in f[:2]:\n",
    "    text = pinyin.get(line, format='strip', delimiter=' ')\n",
    "    token_list = re.findall('[a-z]+', text.lower())\n",
    "    token_list = [token for token in token_list if len(token)>1]\n",
    "    tokens.extend(token_list)\n",
    "print(tokens)"
   ]
  },
  {
   "cell_type": "code",
   "execution_count": 158,
   "metadata": {},
   "outputs": [],
   "source": [
    "from collections import defaultdict, Counter"
   ]
  },
  {
   "cell_type": "code",
   "execution_count": 164,
   "metadata": {},
   "outputs": [],
   "source": [
    "cnt = Counter(tokens)"
   ]
  },
  {
   "cell_type": "code",
   "execution_count": 166,
   "metadata": {},
   "outputs": [
    {
     "data": {
      "text/plain": [
       "13"
      ]
     },
     "execution_count": 166,
     "metadata": {},
     "output_type": "execute_result"
    }
   ],
   "source": [
    "cnt['yi']"
   ]
  },
  {
   "cell_type": "code",
   "execution_count": 174,
   "metadata": {},
   "outputs": [],
   "source": [
    "file = open('input/pinyin.dict','w')\n",
    "for key,val in cnt.items():\n",
    "    file.write('{} {}\\n'.format(key,val))\n",
    "file.close()"
   ]
  },
  {
   "cell_type": "code",
   "execution_count": 167,
   "metadata": {},
   "outputs": [],
   "source": [
    "import jieba"
   ]
  },
  {
   "cell_type": "code",
   "execution_count": 176,
   "metadata": {},
   "outputs": [],
   "source": [
    "jieba.load_userdict('input/pinyin.dict')"
   ]
  },
  {
   "cell_type": "code",
   "execution_count": 178,
   "metadata": {},
   "outputs": [
    {
     "data": {
      "text/plain": [
       "['cagi', 'yun', 'yi', 'ci']"
      ]
     },
     "execution_count": 178,
     "metadata": {},
     "output_type": "execute_result"
    }
   ],
   "source": [
    "jieba.lcut('cagiyunyici')"
   ]
  },
  {
   "cell_type": "code",
   "execution_count": 24,
   "metadata": {},
   "outputs": [],
   "source": [
    "import sys\n",
    "sys.path.append('..')"
   ]
  },
  {
   "cell_type": "code",
   "execution_count": 25,
   "metadata": {},
   "outputs": [],
   "source": [
    "from SentenceGeneration.twogram import TwoGrams"
   ]
  },
  {
   "cell_type": "code",
   "execution_count": 26,
   "metadata": {},
   "outputs": [
    {
     "data": {
      "text/plain": [
       "['C:\\\\Users\\\\Administrator\\\\PycharmProjects\\\\spell_correction',\n",
       " 'C:\\\\ProgramData\\\\Anaconda3\\\\envs\\\\Py37\\\\python37.zip',\n",
       " 'C:\\\\ProgramData\\\\Anaconda3\\\\envs\\\\Py37\\\\DLLs',\n",
       " 'C:\\\\ProgramData\\\\Anaconda3\\\\envs\\\\Py37\\\\lib',\n",
       " 'C:\\\\ProgramData\\\\Anaconda3\\\\envs\\\\Py37',\n",
       " '',\n",
       " 'C:\\\\ProgramData\\\\Anaconda3\\\\envs\\\\Py37\\\\lib\\\\site-packages',\n",
       " 'C:\\\\ProgramData\\\\Anaconda3\\\\envs\\\\Py37\\\\lib\\\\site-packages\\\\win32',\n",
       " 'C:\\\\ProgramData\\\\Anaconda3\\\\envs\\\\Py37\\\\lib\\\\site-packages\\\\win32\\\\lib',\n",
       " 'C:\\\\ProgramData\\\\Anaconda3\\\\envs\\\\Py37\\\\lib\\\\site-packages\\\\Pythonwin',\n",
       " 'C:\\\\ProgramData\\\\Anaconda3\\\\envs\\\\Py37\\\\lib\\\\site-packages\\\\IPython\\\\extensions',\n",
       " 'C:\\\\Users\\\\Administrator\\\\.ipython',\n",
       " '..']"
      ]
     },
     "execution_count": 26,
     "metadata": {},
     "output_type": "execute_result"
    }
   ],
   "source": [
    "sys.path"
   ]
  },
  {
   "cell_type": "code",
   "execution_count": 28,
   "metadata": {},
   "outputs": [],
   "source": [
    "from edit_distance import decorator"
   ]
  },
  {
   "cell_type": "code",
   "execution_count": 185,
   "metadata": {},
   "outputs": [],
   "source": [
    "a = TwoGrams()"
   ]
  },
  {
   "cell_type": "code",
   "execution_count": 186,
   "metadata": {},
   "outputs": [
    {
     "data": {
      "text/plain": [
       "SentenceGeneration.twogram.TwoGrams"
      ]
     },
     "execution_count": 186,
     "metadata": {},
     "output_type": "execute_result"
    }
   ],
   "source": [
    "type(a)"
   ]
  },
  {
   "cell_type": "code",
   "execution_count": 1,
   "metadata": {},
   "outputs": [],
   "source": [
    "import pandas as pd"
   ]
  },
  {
   "cell_type": "code",
   "execution_count": 2,
   "metadata": {},
   "outputs": [
    {
     "data": {
      "text/plain": [
       "0    [1]\n",
       "1    [2]\n",
       "2    [3]\n",
       "dtype: object"
      ]
     },
     "execution_count": 2,
     "metadata": {},
     "output_type": "execute_result"
    }
   ],
   "source": [
    "pd.Series([[1],[2],[3]])"
   ]
  },
  {
   "cell_type": "code",
   "execution_count": 19,
   "metadata": {},
   "outputs": [],
   "source": [
    "t = ['s','sd']"
   ]
  },
  {
   "cell_type": "code",
   "execution_count": 20,
   "metadata": {},
   "outputs": [],
   "source": [
    "t.insert(0,'aa')"
   ]
  },
  {
   "cell_type": "code",
   "execution_count": 21,
   "metadata": {},
   "outputs": [
    {
     "data": {
      "text/plain": [
       "['aa', 's', 'sd']"
      ]
     },
     "execution_count": 21,
     "metadata": {},
     "output_type": "execute_result"
    }
   ],
   "source": [
    "t"
   ]
  },
  {
   "cell_type": "code",
   "execution_count": 22,
   "metadata": {},
   "outputs": [
    {
     "data": {
      "text/plain": [
       "['aa', 's', 'sd', 'eos']"
      ]
     },
     "execution_count": 22,
     "metadata": {},
     "output_type": "execute_result"
    }
   ],
   "source": [
    "t.append('eos')\n",
    "t"
   ]
  },
  {
   "cell_type": "code",
   "execution_count": 23,
   "metadata": {},
   "outputs": [
    {
     "data": {
      "text/plain": [
       "'sd'"
      ]
     },
     "execution_count": 23,
     "metadata": {},
     "output_type": "execute_result"
    }
   ],
   "source": [
    "''.join(['s','d'])"
   ]
  },
  {
   "cell_type": "code",
   "execution_count": null,
   "metadata": {},
   "outputs": [],
   "source": []
  }
 ],
 "metadata": {
  "kernelspec": {
   "display_name": "Python 3",
   "language": "python",
   "name": "python3"
  },
  "language_info": {
   "codemirror_mode": {
    "name": "ipython",
    "version": 3
   },
   "file_extension": ".py",
   "mimetype": "text/x-python",
   "name": "python",
   "nbconvert_exporter": "python",
   "pygments_lexer": "ipython3",
   "version": "3.7.7"
  }
 },
 "nbformat": 4,
 "nbformat_minor": 4
}
