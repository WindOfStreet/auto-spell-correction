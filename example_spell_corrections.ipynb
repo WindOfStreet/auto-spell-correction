{
 "cells": [
  {
   "cell_type": "code",
   "execution_count": 2,
   "metadata": {},
   "outputs": [],
   "source": [
    "import sys, os\n",
    "BASE_DIR = '..'\n",
    "sys.path.append(BASE_DIR + '\\SentenceGeneration')\n",
    "sys.path.append((BASE_DIR + '\\edit_distance'))"
   ]
  },
  {
   "cell_type": "code",
   "execution_count": 3,
   "metadata": {},
   "outputs": [],
   "source": [
    "from spell_corrections import Correct"
   ]
  },
  {
   "cell_type": "code",
   "execution_count": 4,
   "metadata": {},
   "outputs": [
    {
     "name": "stderr",
     "output_type": "stream",
     "text": [
      "Building prefix dict from the default dictionary ...\n",
      "Loading model from cache C:\\Users\\ADMINI~1\\AppData\\Local\\Temp\\jieba.cache\n",
      "Loading model cost 1.109 seconds.\n",
      "Prefix dict has been built successfully.\n"
     ]
    },
    {
     "name": "stdout",
     "output_type": "stream",
     "text": [
      "xaomi==>xiaomi\n"
     ]
    }
   ],
   "source": [
    "model = Correct()\n",
    "model.preprocess('input/article_9k.txt', 'input/pinyin.dict')\n",
    "string = 'xaomi'\n",
    "print('{}==>{}'.format(string, model.correct(string)))"
   ]
  },
  {
   "cell_type": "code",
   "execution_count": 11,
   "metadata": {},
   "outputs": [
    {
     "name": "stdout",
     "output_type": "stream",
     "text": [
      "zhngguo==>zhongguguo\n"
     ]
    }
   ],
   "source": [
    "# 加入单字符预处理之前\n",
    "string = 'zhngguo'\n",
    "print('{}==>{}'.format(string, model.correct(string)))\n",
    "# [out]:zhngguo==>zhongguguo"
   ]
  },
  {
   "cell_type": "code",
   "execution_count": 5,
   "metadata": {},
   "outputs": [
    {
     "name": "stdout",
     "output_type": "stream",
     "text": [
      "zhngguo==>zhongguo\n"
     ]
    }
   ],
   "source": [
    "# 加入单字符预处理之后\n",
    "string = 'zhngguo'\n",
    "print('{}==>{}'.format(string, model.correct(string)))"
   ]
  },
  {
   "cell_type": "code",
   "execution_count": 12,
   "metadata": {},
   "outputs": [
    {
     "data": {
      "text/plain": [
       "(1090004.972613734, 808605.3382592875)"
      ]
     },
     "execution_count": 12,
     "metadata": {},
     "output_type": "execute_result"
    }
   ],
   "source": [
    "model.lm.calc_perplexity(['zhong','gu','guo']),model.lm.calc_perplexity(['zhong','guo']),"
   ]
  },
  {
   "cell_type": "code",
   "execution_count": 13,
   "metadata": {},
   "outputs": [
    {
     "name": "stdout",
     "output_type": "stream",
     "text": [
      "xhifan==>shifaanfan\n"
     ]
    }
   ],
   "source": [
    "# 加入单字符预处理之前\n",
    "string = 'xhifan'\n",
    "print('{}==>{}'.format(string, model.correct(string)))"
   ]
  },
  {
   "cell_type": "code",
   "execution_count": 6,
   "metadata": {},
   "outputs": [
    {
     "name": "stdout",
     "output_type": "stream",
     "text": [
      "xhifan==>shifan\n"
     ]
    }
   ],
   "source": [
    "# 加入单字符预处理之后\n",
    "string = 'xhifan'\n",
    "print('{}==>{}'.format(string, model.correct(string)))"
   ]
  }
 ],
 "metadata": {
  "kernelspec": {
   "display_name": "Python 3",
   "language": "python",
   "name": "python3"
  },
  "language_info": {
   "codemirror_mode": {
    "name": "ipython",
    "version": 3
   },
   "file_extension": ".py",
   "mimetype": "text/x-python",
   "name": "python",
   "nbconvert_exporter": "python",
   "pygments_lexer": "ipython3",
   "version": "3.7.7"
  }
 },
 "nbformat": 4,
 "nbformat_minor": 4
}
